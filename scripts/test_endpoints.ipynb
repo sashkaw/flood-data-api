{
 "cells": [
  {
   "cell_type": "code",
   "execution_count": 11,
   "metadata": {},
   "outputs": [],
   "source": [
    "import pystac\n",
    "from pystac_client import Client\n",
    "from shapely.geometry import Point\n",
    "import rioxarray\n",
    "from pyproj import CRS\n",
    "import geopandas as gpd\n",
    "from folium import Map, TileLayer\n",
    "import numpy as np\n",
    "import xarray\n",
    "import matplotlib.pyplot as plt\n",
    "from matplotlib.colors import ListedColormap\n",
    "import dask\n",
    "import rasterio\n",
    "from rasterio.plot import show\n",
    "import json\n",
    "from datetime import datetime\n",
    "import pandas as pd\n",
    "import httpx\n",
    "from shapely.geometry import Polygon, mapping\n",
    "import pycountry\n",
    "import folium\n",
    "from pygeotile.point import Point\n",
    "import numpy as np\n",
    "import math\n",
    "import re"
   ]
  },
  {
   "cell_type": "code",
   "execution_count": 12,
   "metadata": {},
   "outputs": [
    {
     "data": {
      "text/plain": [
       "{'detail': 'assets must be defined either via expression or assets options.'}"
      ]
     },
     "execution_count": 12,
     "metadata": {},
     "output_type": "execute_result"
    }
   ],
   "source": [
    "#titiler_endpoint = \"https://titiler.xyz\"\n",
    "titiler_endpoint = \"http://127.0.0.1:8000\"\n",
    "\n",
    "#url = \"file:///Users/sashkawarner/repos/flood-data-api/app/data/B03.tiff\"\n",
    "url = \"https://sentinel-cogs.s3.us-west-2.amazonaws.com/sentinel-s2-l2a-cogs/2/L/MK/2023/2/S2B_2LMK_20230225_0_L2A/B03.tif\"\n",
    "r = httpx.get(\n",
    "    f\"{titiler_endpoint}/tilejson.json\",\n",
    "    params = {\n",
    "        #\"country\": \"afghanistan\",\n",
    "        \"url\": url,\n",
    "        #\"assets\": [\"green\", \"swir16\"],\n",
    "        #\"assets\": [\"green\", \"blue\"],\n",
    "        'minzoom': 8,\n",
    "        'maxzoom': 16,\n",
    "        \"bidx\": 1,\n",
    "        \"rescale\": \"0, 25\",\n",
    "        \"colormap_name\": \"viridis\",\n",
    "        #\"algorithm\": \"MNDWI\",\n",
    "        #\"buffer\": 3,\n",
    "    }\n",
    ").json()\n",
    "r\n",
    "#test_url = r['tiles'][0]\n",
    "#deg_y, deg_x, zoom = r['center']\n",
    "#print(test_url)\n",
    "#print(deg_x, deg_y, zoom)"
   ]
  },
  {
   "cell_type": "code",
   "execution_count": null,
   "metadata": {},
   "outputs": [],
   "source": [
    "titiler_endpoint = \"http://127.0.0.1:8000\"\n",
    "#url = \"file:///Users/sashkawarner/repos/flood-data-api/app/data/test_mosaic.json\"\n",
    "#url = \"/Users/sashkawarner/repos/flood-data-api/app/data/test_mosaic.json\"\n",
    "url = \"https://sentinel-cogs.s3.us-west-2.amazonaws.com/sentinel-s2-l2a-cogs/2/L/MK/2023/2/S2B_2LMK_20230225_0_L2A\"\n",
    "#mosaic_test = json.load(open(\"../app/data/test_mosaic.json\"))\n",
    "r = httpx.get(\n",
    "    url=f\"{titiler_endpoint}/tilejson.json\",\n",
    "    params = {\n",
    "        \"url\": url,\n",
    "        'minzoom': 8,\n",
    "        'maxzoom': 16,\n",
    "        #\"rescale\": \"0, 25\",\n",
    "        #\"colormap_name\": \"viridis\",\n",
    "        \"assets\": [\"green\", \"swir16\"],\n",
    "        \"algorithm\": \"detectFlood\",\n",
    "        #\"buffer\": 0.5,\n",
    "   }\n",
    ").json()\n",
    "\n",
    "r"
   ]
  },
  {
   "cell_type": "code",
   "execution_count": 25,
   "metadata": {},
   "outputs": [
    {
     "data": {
      "text/plain": [
       "{'tilejson': '2.2.0',\n",
       " 'version': '1.0.0',\n",
       " 'scheme': 'xyz',\n",
       " 'tiles': ['http://127.0.0.1:8000/tiles/WebMercatorQuad/{z}/{x}/{y}@1x?url=https%3A%2F%2Fearth-search.aws.element84.com%2Fv0%2Fcollections%2Fsentinel-s2-l2a-cogs%2Fitems%2FS2A_2LQJ_20230227_0_L2A&assets=B03&assets=B11&algorithm=detectFlood&rescale=-1%2C1&colormap_name=viridis'],\n",
       " 'minzoom': 8,\n",
       " 'maxzoom': 14,\n",
       " 'bounds': [-168.65178856189547,\n",
       "  -15.1700621933571,\n",
       "  -168.117486492895,\n",
       "  -14.454757819240648],\n",
       " 'center': [-168.38463752739523, -14.812410006298874, 8]}"
      ]
     },
     "execution_count": 25,
     "metadata": {},
     "output_type": "execute_result"
    }
   ],
   "source": [
    "titiler_endpoint = \"http://127.0.0.1:8000\"\n",
    "#url = \"file:///Users/sashkawarner/repos/flood-data-api/app/data/test_mosaic.json\"\n",
    "#url = \"/Users/sashkawarner/repos/flood-data-api/app/data/test_mosaic.json\"\n",
    "#url = \"https://sentinel-cogs.s3.us-west-2.amazonaws.com/sentinel-s2-l2a-cogs/2/L/MK/2023/2/S2B_2LMK_20230225_0_L2A\"\n",
    "#mosaic_test = json.load(open(\"../app/data/test_mosaic.json\"))\n",
    "r = httpx.get(\n",
    "    url=f\"{titiler_endpoint}/search\",\n",
    "    follow_redirects=True,\n",
    "    params = {\n",
    "        \"country\": \"american SamOA\",\n",
    "   }\n",
    ").json()\n",
    "\n",
    "r"
   ]
  },
  {
   "cell_type": "code",
   "execution_count": 26,
   "metadata": {},
   "outputs": [
    {
     "name": "stdout",
     "output_type": "stream",
     "text": [
      "-14.812410006298874 -168.38463752739523 8\n",
      "8 138\n",
      "http://127.0.0.1:8000/tiles/WebMercatorQuad/8/8/138@1x?url=https%3A%2F%2Fearth-search.aws.element84.com%2Fv0%2Fcollections%2Fsentinel-s2-l2a-cogs%2Fitems%2FS2A_2LQJ_20230227_0_L2A&assets=B03&assets=B11&algorithm=detectFlood&rescale=-1%2C1&colormap_name=viridis\n"
     ]
    }
   ],
   "source": [
    "test_url = r['tiles'][0]\n",
    "deg_y, deg_x, zoom = r['center']\n",
    "#print(test_url)\n",
    "print(deg_x, deg_y, zoom)\n",
    "\n",
    "def deg2num(lat_deg, lon_deg, zoom):\n",
    "  lat_rad = math.radians(lat_deg)\n",
    "  n = 2.0 ** zoom\n",
    "  xtile = int((lon_deg + 180.0) / 360.0 * n)\n",
    "  ytile = int((1.0 - math.asinh(math.tan(lat_rad)) / math.pi) / 2.0 * n)\n",
    "  return (xtile, ytile)\n",
    "\n",
    "tile_x, tile_y = deg2num(lat_deg=deg_x, lon_deg=deg_y, zoom=zoom)\n",
    "print(tile_x, tile_y)\n",
    "\n",
    "test_url = re.sub('{z}', str(zoom), test_url)\n",
    "test_url = re.sub('{x}', str(tile_x), test_url)\n",
    "test_url = re.sub('{y}', str(tile_y), test_url)\n",
    "print(test_url)"
   ]
  },
  {
   "cell_type": "code",
   "execution_count": 27,
   "metadata": {},
   "outputs": [
    {
     "data": {
      "text/html": [
       "<div style=\"width:100%;\"><div style=\"position:relative;width:100%;height:0;padding-bottom:60%;\"><span style=\"color:#565656\">Make this Notebook Trusted to load map: File -> Trust Notebook</span><iframe srcdoc=\"&lt;!DOCTYPE html&gt;\n",
       "&lt;html&gt;\n",
       "&lt;head&gt;\n",
       "    \n",
       "    &lt;meta http-equiv=&quot;content-type&quot; content=&quot;text/html; charset=UTF-8&quot; /&gt;\n",
       "    \n",
       "        &lt;script&gt;\n",
       "            L_NO_TOUCH = false;\n",
       "            L_DISABLE_3D = false;\n",
       "        &lt;/script&gt;\n",
       "    \n",
       "    &lt;style&gt;html, body {width: 100%;height: 100%;margin: 0;padding: 0;}&lt;/style&gt;\n",
       "    &lt;style&gt;#map {position:absolute;top:0;bottom:0;right:0;left:0;}&lt;/style&gt;\n",
       "    &lt;script src=&quot;https://cdn.jsdelivr.net/npm/leaflet@1.9.3/dist/leaflet.js&quot;&gt;&lt;/script&gt;\n",
       "    &lt;script src=&quot;https://code.jquery.com/jquery-1.12.4.min.js&quot;&gt;&lt;/script&gt;\n",
       "    &lt;script src=&quot;https://cdn.jsdelivr.net/npm/bootstrap@5.2.2/dist/js/bootstrap.bundle.min.js&quot;&gt;&lt;/script&gt;\n",
       "    &lt;script src=&quot;https://cdnjs.cloudflare.com/ajax/libs/Leaflet.awesome-markers/2.0.2/leaflet.awesome-markers.js&quot;&gt;&lt;/script&gt;\n",
       "    &lt;link rel=&quot;stylesheet&quot; href=&quot;https://cdn.jsdelivr.net/npm/leaflet@1.9.3/dist/leaflet.css&quot;/&gt;\n",
       "    &lt;link rel=&quot;stylesheet&quot; href=&quot;https://cdn.jsdelivr.net/npm/bootstrap@5.2.2/dist/css/bootstrap.min.css&quot;/&gt;\n",
       "    &lt;link rel=&quot;stylesheet&quot; href=&quot;https://netdna.bootstrapcdn.com/bootstrap/3.0.0/css/bootstrap.min.css&quot;/&gt;\n",
       "    &lt;link rel=&quot;stylesheet&quot; href=&quot;https://cdn.jsdelivr.net/npm/@fortawesome/fontawesome-free@6.2.0/css/all.min.css&quot;/&gt;\n",
       "    &lt;link rel=&quot;stylesheet&quot; href=&quot;https://cdnjs.cloudflare.com/ajax/libs/Leaflet.awesome-markers/2.0.2/leaflet.awesome-markers.css&quot;/&gt;\n",
       "    &lt;link rel=&quot;stylesheet&quot; href=&quot;https://cdn.jsdelivr.net/gh/python-visualization/folium/folium/templates/leaflet.awesome.rotate.min.css&quot;/&gt;\n",
       "    \n",
       "            &lt;meta name=&quot;viewport&quot; content=&quot;width=device-width,\n",
       "                initial-scale=1.0, maximum-scale=1.0, user-scalable=no&quot; /&gt;\n",
       "            &lt;style&gt;\n",
       "                #map_588a66e311be526933cf02baf351f3ff {\n",
       "                    position: relative;\n",
       "                    width: 100.0%;\n",
       "                    height: 100.0%;\n",
       "                    left: 0.0%;\n",
       "                    top: 0.0%;\n",
       "                }\n",
       "                .leaflet-container { font-size: 1rem; }\n",
       "            &lt;/style&gt;\n",
       "        \n",
       "&lt;/head&gt;\n",
       "&lt;body&gt;\n",
       "    \n",
       "    \n",
       "            &lt;div class=&quot;folium-map&quot; id=&quot;map_588a66e311be526933cf02baf351f3ff&quot; &gt;&lt;/div&gt;\n",
       "        \n",
       "&lt;/body&gt;\n",
       "&lt;script&gt;\n",
       "    \n",
       "    \n",
       "            var map_588a66e311be526933cf02baf351f3ff = L.map(\n",
       "                &quot;map_588a66e311be526933cf02baf351f3ff&quot;,\n",
       "                {\n",
       "                    center: [-14.812410006298874, -168.38463752739523],\n",
       "                    crs: L.CRS.EPSG3857,\n",
       "                    zoom: 9,\n",
       "                    zoomControl: true,\n",
       "                    preferCanvas: false,\n",
       "                }\n",
       "            );\n",
       "\n",
       "            \n",
       "\n",
       "        \n",
       "    \n",
       "            var tile_layer_5c2f541a1f93d7623cc031f33c005ef4 = L.tileLayer(\n",
       "                &quot;https://{s}.tile.openstreetmap.org/{z}/{x}/{y}.png&quot;,\n",
       "                {&quot;attribution&quot;: &quot;Data by \\u0026copy; \\u003ca target=\\&quot;_blank\\&quot; href=\\&quot;http://openstreetmap.org\\&quot;\\u003eOpenStreetMap\\u003c/a\\u003e, under \\u003ca target=\\&quot;_blank\\&quot; href=\\&quot;http://www.openstreetmap.org/copyright\\&quot;\\u003eODbL\\u003c/a\\u003e.&quot;, &quot;detectRetina&quot;: false, &quot;maxNativeZoom&quot;: 18, &quot;maxZoom&quot;: 18, &quot;minZoom&quot;: 0, &quot;noWrap&quot;: false, &quot;opacity&quot;: 1, &quot;subdomains&quot;: &quot;abc&quot;, &quot;tms&quot;: false}\n",
       "            ).addTo(map_588a66e311be526933cf02baf351f3ff);\n",
       "        \n",
       "    \n",
       "            var tile_layer_ab65a14821a29a64ad309909d04b0e06 = L.tileLayer(\n",
       "                &quot;http://127.0.0.1:8000/tiles/WebMercatorQuad/{z}/{x}/{y}@1x?url=https%3A%2F%2Fearth-search.aws.element84.com%2Fv0%2Fcollections%2Fsentinel-s2-l2a-cogs%2Fitems%2FS2A_2LQJ_20230227_0_L2A\\u0026assets=B03\\u0026assets=B11\\u0026algorithm=detectFlood\\u0026rescale=-1%2C1\\u0026colormap_name=viridis&quot;,\n",
       "                {&quot;attribution&quot;: &quot;Swisstopo&quot;, &quot;detectRetina&quot;: false, &quot;maxNativeZoom&quot;: 18, &quot;maxZoom&quot;: 18, &quot;minZoom&quot;: 0, &quot;noWrap&quot;: false, &quot;opacity&quot;: 1, &quot;subdomains&quot;: &quot;abc&quot;, &quot;tms&quot;: false}\n",
       "            ).addTo(map_588a66e311be526933cf02baf351f3ff);\n",
       "        \n",
       "&lt;/script&gt;\n",
       "&lt;/html&gt;\" style=\"position:absolute;width:100%;height:100%;left:0;top:0;border:none !important;\" allowfullscreen webkitallowfullscreen mozallowfullscreen></iframe></div></div>"
      ],
      "text/plain": [
       "<folium.folium.Map at 0x7faa779f7040>"
      ]
     },
     "execution_count": 27,
     "metadata": {},
     "output_type": "execute_result"
    }
   ],
   "source": [
    "# Note: Tile Server rescales uint16 data auto to max/min and shows black/white tiles \n",
    "bounds = r[\"bounds\"]\n",
    "m = Map(\n",
    "    location=((bounds[1] + bounds[3]) / 2,(bounds[0] + bounds[2]) / 2),\n",
    "    zoom_start=r[\"minzoom\"] + 1\n",
    ")\n",
    "\n",
    "aod_layer = TileLayer(\n",
    "    tiles=r[\"tiles\"][0],\n",
    "    opacity=1,\n",
    "    attr=\"Swisstopo\"\n",
    ")\n",
    "aod_layer.add_to(m)\n",
    "m"
   ]
  },
  {
   "cell_type": "code",
   "execution_count": null,
   "metadata": {},
   "outputs": [],
   "source": [
    "#titiler_endpoint = \"https://titiler.xyz\"\n",
    "titiler_endpoint = \"http://127.0.0.1:8000\"\n",
    "#'http://127.0.0.1:8000/search/?country=afghanistan'\n",
    "#url = \"https://data.geo.admin.ch/ch.swisstopo.swissalti3d/swissalti3d_2019_2573-1085/swissalti3d_2019_2573-1085_0.5_2056_5728.tif\"\n",
    "url = \"https://earth-search.aws.element84.com/v1/collections/sentinel-2-l2a/items/S2A_30TVT_20221112_0_L2A\"\n",
    "r = httpx.get(\n",
    "    #f\"{titiler_endpoint}/cog/tilejson.json\",\n",
    "    f\"{titiler_endpoint}/tilejson.json\",\n",
    "    params = {\n",
    "        #\"country\": \"afghanistan\",\n",
    "        \"url\": url,\n",
    "        \"assets\": [\"green\", \"swir16\"],\n",
    "        #\"assets\": [\"green\", \"blue\"],\n",
    "        'minzoom': 8,\n",
    "        'maxzoom': 16,\n",
    "        \"algorithm\": \"MNDWI\",\n",
    "        #\"buffer\": 3,\n",
    "    }\n",
    ").json()\n",
    "r\n",
    "test_url = r['tiles'][0]\n",
    "deg_y, deg_x, zoom = r['center']\n",
    "print(test_url)\n",
    "print(deg_x, deg_y, zoom)"
   ]
  },
  {
   "cell_type": "code",
   "execution_count": null,
   "metadata": {},
   "outputs": [],
   "source": []
  },
  {
   "cell_type": "code",
   "execution_count": null,
   "metadata": {},
   "outputs": [],
   "source": [
    "#titiler_endpoint = \"https://titiler.xyz\"\n",
    "#titiler_endpoint = \"http://127.0.0.1:8000\"\n",
    "titiler_endpoint = \"http://127.0.0.1:8000/search/?country=afghanistan\"\n",
    "#'http://127.0.0.1:8000/search/?country=afghanistan'\n",
    "#url = \"https://data.geo.admin.ch/ch.swisstopo.swissalti3d/swissalti3d_2019_2573-1085/swissalti3d_2019_2573-1085_0.5_2056_5728.tif\"\n",
    "#url = \"https://earth-search.aws.element84.com/v1/collections/sentinel-2-l2a/items/S2A_30TVT_20221112_0_L2A\"\n",
    "r = httpx.get(\n",
    "    #f\"{titiler_endpoint}/cog/tilejson.json\",\n",
    "    #f\"{titiler_endpoint}/tilejson.json\",\n",
    "    titiler_endpoint,\n",
    "    follow_redirects=True\n",
    "    #params = {\n",
    "    #    \"country\": \"afghanistan\",\n",
    "        #\"url\": url,\n",
    "        #\"assets\": [\"green\", \"swir16\"],\n",
    "        #'minzoom': 8,\n",
    "        #'maxzoom': 16,\n",
    "        #\"algorithm\": \"MNDWI\",\n",
    "        #\"buffer\": 3,\n",
    "    #}\n",
    ").json()\n",
    "#print(dir(r))\n",
    "print(r)\n",
    "#print(r)\n",
    "#test_url = r['tiles'][0]\n",
    "#deg_y, deg_x, zoom = r['center']\n",
    "#print(test_url)\n",
    "#print(deg_x, deg_y, zoom)\n"
   ]
  },
  {
   "cell_type": "code",
   "execution_count": null,
   "metadata": {},
   "outputs": [],
   "source": [
    "titiler_endpoint = \"https://titiler.xyz\"\n",
    "#urls = ['https://earth-search.aws.element84.com/v0/collections/sentinel-s2-l2a-cogs/items/S2B_2LMJ_20230225_0_L2A',\n",
    "# 'https://earth-search.aws.element84.com/v0/collections/sentinel-s2-l2a-cogs/items/S2B_2LNJ_20230225_0_L2A']\n",
    "#urls = 'https://earth-search.aws.element84.com/v0/collections/sentinel-s2-l2a-cogs/items/S2B_2LMJ_20230225_0_L2A, https://earth-search.aws.element84.com/v0/collections/sentinel-s2-l2a-cogs/items/S2B_2LNJ_20230225_0_L2A'\n",
    "#urls = ['https://sentinel-cogs.s3.us-west-2.amazonaws.com/sentinel-s2-l2a-cogs/2/L/MJ/2023/2/S2B_2LMJ_20230225_0_L2A/B03.tif',\n",
    "# 'https://sentinel-cogs.s3.us-west-2.amazonaws.com/sentinel-s2-l2a-cogs/2/L/NJ/2023/2/S2B_2LNJ_20230225_0_L2A/B03.tif']\n",
    "#urls = 'https://sentinel-cogs.s3.us-west-2.amazonaws.com/sentinel-s2-l2a-cogs/2/L/MJ/2023/2/S2B_2LMJ_20230225_0_L2A/B03.tif, https://sentinel-cogs.s3.us-west-2.amazonaws.com/sentinel-s2-l2a-cogs/2/L/NJ/2023/2/S2B_2LNJ_20230225_0_L2A/B03.tif'\n",
    "#urls = \"data/B03.tif, data/B03_2.tiff\"\n",
    "urls = \"/Users/sashkawarner/repos/flood-data-api/app/data/B03.tiff,/Users/sashkawarner/repos/flood-data-api/app/data/B03_2.tiff\" #NO SPACE\n",
    "#titiler_endpoint = \"http://127.0.0.1:8000\"\n",
    "r = httpx.get(\n",
    "    f\"{titiler_endpoint}/mosaic/tilejson.json\",\n",
    "    params={\n",
    "        # For this demo we are use the same mosaic but stored on the web\n",
    "        #\"url\": \"./data/test_mosaic.json\",\n",
    "        \"url\": urls,\n",
    "        \"minzoom\": 8,\n",
    "        \"maxzoom\": 16,\n",
    "        #\"assets\": [\"B03\"],\n",
    "        #\"bounds\": [-171.26452474589144, -15.46498932556128, -170.9090253707599,-14.472279246488112]\n",
    "        \"bounds\": [117, 121, 117, 121]\n",
    "    }\n",
    ").json()\n",
    "print(r)"
   ]
  },
  {
   "cell_type": "code",
   "execution_count": null,
   "metadata": {},
   "outputs": [],
   "source": [
    "from pygeotile.point import Point\n",
    "import numpy as np\n",
    "import math\n",
    "import re\n",
    "bounds = [-171.26452474589144, -15.46498932556128, -170.9090253707599,-14.472279246488112]\n",
    "\n",
    "test_url = r['tiles'][0]\n",
    "deg_y, deg_x, zoom = r['center']\n",
    "print(test_url)\n",
    "print(deg_x, deg_y, zoom)\n",
    "\n",
    "def deg2num(lat_deg, lon_deg, zoom):\n",
    "  lat_rad = math.radians(lat_deg)\n",
    "  n = 2.0 ** zoom\n",
    "  xtile = int((lon_deg + 180.0) / 360.0 * n)\n",
    "  ytile = int((1.0 - math.asinh(math.tan(lat_rad)) / math.pi) / 2.0 * n)\n",
    "  return (xtile, ytile)\n",
    "\n",
    "tile_x, tile_y = deg2num(lat_deg=deg_x, lon_deg=deg_y, zoom=zoom)\n",
    "print(tile_x, tile_y)\n",
    "b_x, b_y = deg2num(bounds[0], bounds[1], 8)\n",
    "b_x2, b_y2 = deg2num(bounds[2], bounds[3], 8)\n",
    "\n",
    "print(b_x, b_y, b_x2, b_y2)"
   ]
  },
  {
   "cell_type": "code",
   "execution_count": null,
   "metadata": {},
   "outputs": [],
   "source": [
    "test_url = re.sub('{z}', str(zoom), test_url)\n",
    "test_url = re.sub('{x}', str(tile_x), test_url)\n",
    "test_url = re.sub('{y}', str(tile_y), test_url)\n",
    "print(test_url)"
   ]
  },
  {
   "cell_type": "code",
   "execution_count": null,
   "metadata": {},
   "outputs": [],
   "source": []
  }
 ],
 "metadata": {
  "kernelspec": {
   "display_name": "venv",
   "language": "python",
   "name": "python3"
  },
  "language_info": {
   "codemirror_mode": {
    "name": "ipython",
    "version": 3
   },
   "file_extension": ".py",
   "mimetype": "text/x-python",
   "name": "python",
   "nbconvert_exporter": "python",
   "pygments_lexer": "ipython3",
   "version": "3.9.13"
  },
  "orig_nbformat": 4,
  "vscode": {
   "interpreter": {
    "hash": "75afac9cf888930ced8efd734e3a1a1d60a74308bae0a09f7399c9a73dd92465"
   }
  }
 },
 "nbformat": 4,
 "nbformat_minor": 2
}
